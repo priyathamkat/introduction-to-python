{
 "cells": [
  {
   "cell_type": "markdown",
   "metadata": {},
   "source": [
    "## `map`\n",
    "```python\n",
    "map(<func>, <iterable>)\n",
    "```"
   ]
  },
  {
   "cell_type": "code",
   "execution_count": 1,
   "metadata": {},
   "outputs": [],
   "source": [
    "def last_name(name):\n",
    "    return name.split(\" \")[-1]\n",
    "\n",
    "students = [\"Harry Potter\", \"Luna Lovegood\", \"Ron Weasley\", \"Ginny Weasley\", \"Cedric Diggory\", \"Hermione Granger\", \"Draco Malfoy\"]"
   ]
  },
  {
   "cell_type": "code",
   "execution_count": 3,
   "metadata": {},
   "outputs": [
    {
     "name": "stdout",
     "output_type": "stream",
     "text": [
      "['Potter', 'Lovegood', 'Weasley', 'Weasley', 'Diggory', 'Granger', 'Malfoy']\n"
     ]
    }
   ],
   "source": [
    "print(list(map(last_name, students)))"
   ]
  },
  {
   "cell_type": "markdown",
   "metadata": {},
   "source": [
    "## `filter`\n",
    "```python\n",
    "filter(<func>, <iterable>)\n",
    "```\n",
    "Note: <func> must always return a boolean.\n",
    "    "
   ]
  },
  {
   "cell_type": "code",
   "execution_count": 4,
   "metadata": {},
   "outputs": [
    {
     "name": "stdout",
     "output_type": "stream",
     "text": [
      "[0, 2, 4, 6, 8]\n"
     ]
    }
   ],
   "source": [
    "def is_even(n):\n",
    "    return n % 2 == 0\n",
    "numbers = range(10)\n",
    "print(list(filter(is_even, numbers)))"
   ]
  },
  {
   "cell_type": "markdown",
   "metadata": {},
   "source": [
    "## `enumerate`\n",
    "```python\n",
    "enumerate(<iterable>)\n",
    "```"
   ]
  },
  {
   "cell_type": "code",
   "execution_count": 6,
   "metadata": {},
   "outputs": [
    {
     "name": "stdout",
     "output_type": "stream",
     "text": [
      "1. Harry Potter\n",
      "2. Luna Lovegood\n",
      "3. Ron Weasley\n",
      "4. Ginny Weasley\n",
      "5. Cedric Diggory\n",
      "6. Hermione Granger\n",
      "7. Draco Malfoy\n"
     ]
    }
   ],
   "source": [
    "for i, student in enumerate(students, start=1):\n",
    "    print(f\"{i}. {student}\")"
   ]
  },
  {
   "cell_type": "markdown",
   "metadata": {},
   "source": [
    "## `zip`\n",
    "```python\n",
    "zip(<iterable1>, <iterable2>, ...)\n",
    "```"
   ]
  },
  {
   "cell_type": "code",
   "execution_count": 7,
   "metadata": {},
   "outputs": [
    {
     "name": "stdout",
     "output_type": "stream",
     "text": [
      "0. Harry Potter\n",
      "1. Luna Lovegood\n",
      "2. Ron Weasley\n",
      "3. Ginny Weasley\n",
      "4. Cedric Diggory\n",
      "5. Hermione Granger\n",
      "6. Draco Malfoy\n"
     ]
    }
   ],
   "source": [
    "for i, student in zip(range(len(students)), students):\n",
    "    print(f\"{i}. {student}\")"
   ]
  },
  {
   "cell_type": "markdown",
   "metadata": {},
   "source": [
    "## Lambda Expressions\n",
    "```python\n",
    "lambda <parameters>: <single-expression>\n",
    "```"
   ]
  },
  {
   "cell_type": "code",
   "execution_count": 8,
   "metadata": {},
   "outputs": [
    {
     "name": "stdout",
     "output_type": "stream",
     "text": [
      "['Potter', 'Lovegood', 'Weasley', 'Weasley', 'Diggory', 'Granger', 'Malfoy']\n"
     ]
    }
   ],
   "source": [
    "print(list(map(lambda name: name.split(\" \")[-1], students)))"
   ]
  },
  {
   "cell_type": "markdown",
   "metadata": {},
   "source": [
    "## List Comprehensions\n",
    "Concise way to create lists\n",
    "```python\n",
    "[f(i) for i in <iterable>]\n",
    "```"
   ]
  },
  {
   "cell_type": "code",
   "execution_count": 10,
   "metadata": {},
   "outputs": [
    {
     "name": "stdout",
     "output_type": "stream",
     "text": [
      "[0, 1, 8, 27, 64, 125, 216, 343, 512, 729]\n"
     ]
    }
   ],
   "source": [
    "cubes = [x ** 3 for x in range(10)]  # like `map`\n",
    "print(cubes)"
   ]
  },
  {
   "cell_type": "code",
   "execution_count": 11,
   "metadata": {},
   "outputs": [
    {
     "name": "stdout",
     "output_type": "stream",
     "text": [
      "[0, 8, 64, 216, 512]\n"
     ]
    }
   ],
   "source": [
    "even_cubes = [x ** 3 for x in range(10) if x % 2 == 0]  # `map` and `filter`\n",
    "print(even_cubes)"
   ]
  },
  {
   "cell_type": "markdown",
   "metadata": {},
   "source": [
    "They can be used even with sets and dictionaries"
   ]
  },
  {
   "cell_type": "code",
   "execution_count": 12,
   "metadata": {},
   "outputs": [
    {
     "name": "stdout",
     "output_type": "stream",
     "text": [
      "{1: 2, 2: 3, 3: 5, 4: 7, 5: 11, 6: 13}\n"
     ]
    }
   ],
   "source": [
    "primes = [2, 3, 5, 7, 11, 13]\n",
    "primes_dict = {i: p for i, p in enumerate(primes, start=1)}\n",
    "print(primes_dict)"
   ]
  },
  {
   "cell_type": "code",
   "execution_count": 13,
   "metadata": {},
   "outputs": [
    {
     "name": "stdout",
     "output_type": "stream",
     "text": [
      "['Harry Potter', 'Luna Lovegood', 'Cedric Diggory', 'Hermione Granger', 'Draco Malfoy']\n"
     ]
    }
   ],
   "source": [
    "print(list(filter(lambda name: \"Weasley\" not in name, students)))"
   ]
  },
  {
   "cell_type": "markdown",
   "metadata": {},
   "source": [
    "## Classes\n",
    "see `student.py`"
   ]
  },
  {
   "cell_type": "code",
   "execution_count": null,
   "metadata": {},
   "outputs": [],
   "source": []
  }
 ],
 "metadata": {
  "kernelspec": {
   "display_name": "Python 3",
   "language": "python",
   "name": "python3"
  },
  "language_info": {
   "codemirror_mode": {
    "name": "ipython",
    "version": 3
   },
   "file_extension": ".py",
   "mimetype": "text/x-python",
   "name": "python",
   "nbconvert_exporter": "python",
   "pygments_lexer": "ipython3",
   "version": "3.6.8"
  }
 },
 "nbformat": 4,
 "nbformat_minor": 2
}
