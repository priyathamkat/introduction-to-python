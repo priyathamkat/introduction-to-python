{
 "cells": [
  {
   "cell_type": "markdown",
   "metadata": {},
   "source": [
    "# Introduction to Python\n",
    "\n",
    "Wikipedia describes Python as an interpreted, high-level, dynamically-typed, garbage-collected, general-purpose programming language. "
   ]
  },
  {
   "cell_type": "markdown",
   "metadata": {},
   "source": [
    "## Basics"
   ]
  },
  {
   "cell_type": "code",
   "execution_count": 1,
   "metadata": {},
   "outputs": [
    {
     "name": "stdout",
     "output_type": "stream",
     "text": [
      "Hello, World!\n",
      "I am Harry. I am 17 years old.\n"
     ]
    }
   ],
   "source": [
    "name = \"Harry\"\n",
    "age = 17\n",
    "# This is a comment\n",
    "print(\"Hello, World!\")\n",
    "print(f\"I am {name}. I am {age} years old.\")  # formatted string"
   ]
  },
  {
   "cell_type": "markdown",
   "metadata": {},
   "source": [
    "## Numbers\n"
   ]
  },
  {
   "cell_type": "markdown",
   "metadata": {},
   "source": [
    "### Integer\n",
    "Python supports arbitrary precision integer arithmetic out-of-the-box."
   ]
  },
  {
   "cell_type": "code",
   "execution_count": 2,
   "metadata": {},
   "outputs": [
    {
     "name": "stdout",
     "output_type": "stream",
     "text": [
      "7\n",
      "-1\n",
      "12\n",
      "0\n",
      "81\n"
     ]
    }
   ],
   "source": [
    "print(3 + 4)  # addition\n",
    "print(3 - 4)  # subtraction\n",
    "print(3 * 4)  # multiplication\n",
    "print(3 // 4)  # integer division\n",
    "print(3 ** 4)  # exponentiation"
   ]
  },
  {
   "cell_type": "code",
   "execution_count": 3,
   "metadata": {},
   "outputs": [
    {
     "name": "stdout",
     "output_type": "stream",
     "text": [
      "2.0 + 4.0 = 6.0\n",
      "2.0 - 4.0 = -2.0\n",
      "2.0 * 4.0 = 8.0\n",
      "2.0 / 4.0 = 0.5\n",
      "2.0 ** 4.0 = 16.0\n"
     ]
    }
   ],
   "source": [
    "a = 2.0\n",
    "b = 4.0\n",
    "print(f\"{a} + {b} = {a + b}\")  # addition\n",
    "print(f\"{a} - {b} = {a - b}\")  # subtraction\n",
    "print(f\"{a} * {b} = {a * b}\")  # multiplication\n",
    "print(f\"{a} / {b} = {a / b}\")  # float division\n",
    "print(f\"{a} ** {b} = {a ** b}\")  # exponentiation"
   ]
  },
  {
   "cell_type": "markdown",
   "metadata": {},
   "source": [
    "## Strings"
   ]
  },
  {
   "cell_type": "code",
   "execution_count": 4,
   "metadata": {},
   "outputs": [
    {
     "name": "stdout",
     "output_type": "stream",
     "text": [
      "Harry Potter\n",
      "12\n"
     ]
    }
   ],
   "source": [
    "firstname = \"Harry\"\n",
    "lastname = \"Potter\"\n",
    "name = f\"{firstname} {lastname}\"\n",
    "print(name)  # doesn't have spaces!\n",
    "print(len(name))"
   ]
  },
  {
   "cell_type": "markdown",
   "metadata": {},
   "source": [
    "### Indexing and Slicing\n",
    "```\n",
    "|   H |   a |   r |  r  |  y  |     |  P  |  o  |  t  |  t  |  e  |  r  |\n",
    "|   0 |   1 |   2 |  3  |  4  |  5  |  6  |  7  |  8  |  9  | 10  | 11  |\n",
    "| -12 | -11 | -10 | -9  | -8  | -7  | -6  | -5  | -4  | -3  | -2  | -1  |\n",
    "```"
   ]
  },
  {
   "cell_type": "code",
   "execution_count": 5,
   "metadata": {},
   "outputs": [
    {
     "name": "stdout",
     "output_type": "stream",
     "text": [
      "H\n",
      "y\n",
      "Harry Potter\n",
      "Potter\n"
     ]
    }
   ],
   "source": [
    "print(name[0])\n",
    "print(name[4])\n",
    "print(name[:])\n",
    "print(name[6:18])"
   ]
  },
  {
   "cell_type": "code",
   "execution_count": 6,
   "metadata": {},
   "outputs": [
    {
     "name": "stdout",
     "output_type": "stream",
     "text": [
      "Harry\n",
      "Potter\n"
     ]
    }
   ],
   "source": [
    "print(name[-12:-7])\n",
    "print(name[-6:])"
   ]
  },
  {
   "cell_type": "markdown",
   "metadata": {},
   "source": [
    "## Boolean Operators\n",
    "\n",
    "Use `==, !=, <, >, <=, >=` for comparision. `not` is for negation. `and`, `or` are used for logical AND, logical OR respectively."
   ]
  },
  {
   "cell_type": "code",
   "execution_count": 7,
   "metadata": {},
   "outputs": [
    {
     "data": {
      "text/plain": [
       "True"
      ]
     },
     "execution_count": 7,
     "metadata": {},
     "output_type": "execute_result"
    }
   ],
   "source": [
    "2 == 2"
   ]
  },
  {
   "cell_type": "code",
   "execution_count": 8,
   "metadata": {},
   "outputs": [
    {
     "data": {
      "text/plain": [
       "False"
      ]
     },
     "execution_count": 8,
     "metadata": {},
     "output_type": "execute_result"
    }
   ],
   "source": [
    "3 <= 2"
   ]
  },
  {
   "cell_type": "code",
   "execution_count": 9,
   "metadata": {},
   "outputs": [
    {
     "data": {
      "text/plain": [
       "True"
      ]
     },
     "execution_count": 9,
     "metadata": {},
     "output_type": "execute_result"
    }
   ],
   "source": [
    "2 - 2 == 0 and 3 != 4"
   ]
  },
  {
   "cell_type": "markdown",
   "metadata": {},
   "source": [
    "## Data Structures"
   ]
  },
  {
   "cell_type": "markdown",
   "metadata": {},
   "source": [
    "### Lists\n",
    "Lists are an ordered, mutable collection of objects."
   ]
  },
  {
   "cell_type": "code",
   "execution_count": 10,
   "metadata": {},
   "outputs": [
    {
     "name": "stdout",
     "output_type": "stream",
     "text": [
      "['Cedric Diggory', 'Padma Patil', 'Parvati Patil']\n"
     ]
    }
   ],
   "source": [
    "students = [\"Cedric Diggory\", \"Padma Patil\", \"Parvati Patil\"]\n",
    "print(students)"
   ]
  },
  {
   "cell_type": "markdown",
   "metadata": {},
   "source": [
    "`len()` gives the length of a list"
   ]
  },
  {
   "cell_type": "code",
   "execution_count": 11,
   "metadata": {},
   "outputs": [
    {
     "name": "stdout",
     "output_type": "stream",
     "text": [
      "3\n"
     ]
    }
   ],
   "source": [
    "print(len(students))"
   ]
  },
  {
   "cell_type": "markdown",
   "metadata": {},
   "source": [
    "Indexing and slicing follow the same rules as for strings."
   ]
  },
  {
   "cell_type": "code",
   "execution_count": 12,
   "metadata": {},
   "outputs": [
    {
     "name": "stdout",
     "output_type": "stream",
     "text": [
      "Cedric Diggory\n",
      "['Padma Patil', 'Parvati Patil']\n"
     ]
    }
   ],
   "source": [
    "print(students[0])\n",
    "print(students[1:3])"
   ]
  },
  {
   "cell_type": "code",
   "execution_count": 13,
   "metadata": {},
   "outputs": [
    {
     "name": "stdout",
     "output_type": "stream",
     "text": [
      "['Harry Potter', 'Padma Patil', 'Parvati Patil']\n"
     ]
    }
   ],
   "source": [
    "students[0] = \"Harry Potter\"\n",
    "print(students)"
   ]
  },
  {
   "cell_type": "code",
   "execution_count": 14,
   "metadata": {},
   "outputs": [
    {
     "name": "stdout",
     "output_type": "stream",
     "text": [
      "['Harry Potter', 'Ron Weasley', 'Hermione Granger']\n"
     ]
    }
   ],
   "source": [
    "students[1:3] = [\"Ron Weasley\", \"Hermione Granger\"]\n",
    "print(students)"
   ]
  },
  {
   "cell_type": "code",
   "execution_count": 15,
   "metadata": {},
   "outputs": [
    {
     "name": "stdout",
     "output_type": "stream",
     "text": [
      "['Harry Potter', 'Ron Weasley', 'Hermione Granger', 'Luna Lovegood']\n"
     ]
    }
   ],
   "source": [
    "students.append(\"Luna Lovegood\")  # adding an element\n",
    "print(students)"
   ]
  },
  {
   "cell_type": "code",
   "execution_count": 16,
   "metadata": {},
   "outputs": [
    {
     "name": "stdout",
     "output_type": "stream",
     "text": [
      "['Harry Potter', 'Ron Weasley', 'Hermione Granger', 'Luna Lovegood', 'Ginny Weasley', 'Neville Longbottom']\n"
     ]
    }
   ],
   "source": [
    "students = students + [\"Ginny Weasley\", \"Neville Longbottom\"]  # list concatenation\n",
    "print(students)"
   ]
  },
  {
   "cell_type": "markdown",
   "metadata": {},
   "source": [
    "#### A note of caution!"
   ]
  },
  {
   "cell_type": "code",
   "execution_count": 17,
   "metadata": {},
   "outputs": [
    {
     "name": "stdout",
     "output_type": "stream",
     "text": [
      "['Harry Potter', 'Ron Weasley', 'Hermione Granger', 'Luna Lovegood', 'Ginny Weasley', 'Neville Longbottom']\n"
     ]
    }
   ],
   "source": [
    "students_copy = students\n",
    "print(students_copy)"
   ]
  },
  {
   "cell_type": "code",
   "execution_count": 18,
   "metadata": {},
   "outputs": [
    {
     "name": "stdout",
     "output_type": "stream",
     "text": [
      "['Pansy Parkinson', 'Ron Weasley', 'Hermione Granger', 'Luna Lovegood', 'Ginny Weasley', 'Neville Longbottom']\n"
     ]
    }
   ],
   "source": [
    "students_copy[0] = \"Pansy Parkinson\"\n",
    "print(students)  # changes appear in students_copy too!"
   ]
  },
  {
   "cell_type": "code",
   "execution_count": 19,
   "metadata": {},
   "outputs": [
    {
     "name": "stdout",
     "output_type": "stream",
     "text": [
      "['Harry Potter', 'Ron Weasley', 'Hermione Granger', 'Luna Lovegood', 'Ginny Weasley', 'Neville Longbottom']\n"
     ]
    }
   ],
   "source": [
    "students = [\"Harry Potter\", \"Ron Weasley\", \"Hermione Granger\", \"Luna Lovegood\", \"Ginny Weasley\", \"Neville Longbottom\"]\n",
    "students_copy = students[:]\n",
    "students_copy[0] = \"Pansy Parkinson\"\n",
    "print(students)  # changes appear in students_copy too!"
   ]
  },
  {
   "cell_type": "markdown",
   "metadata": {},
   "source": [
    "### Tuples\n",
    "Tuples are an ordered, immutable collection of objects."
   ]
  },
  {
   "cell_type": "code",
   "execution_count": 20,
   "metadata": {},
   "outputs": [
    {
     "name": "stdout",
     "output_type": "stream",
     "text": [
      "('Draco Malfoy', 'M', 17, 'Slytherin')\n",
      "4\n",
      "M\n"
     ]
    }
   ],
   "source": [
    "student = (\"Draco Malfoy\", \"M\", 17, \"Slytherin\")\n",
    "print(student)\n",
    "print(len(student))\n",
    "print(student[1])"
   ]
  },
  {
   "cell_type": "markdown",
   "metadata": {},
   "source": [
    "### Sets\n",
    "Sets are an unordered collection of unique objects."
   ]
  },
  {
   "cell_type": "code",
   "execution_count": 21,
   "metadata": {},
   "outputs": [
    {
     "name": "stdout",
     "output_type": "stream",
     "text": [
      "{'Ron Weasley', 'Harry Potter', 'Hermione Granger'}\n"
     ]
    }
   ],
   "source": [
    "students = {\"Harry Potter\", \"Ron Weasley\", \"Harry Potter\", \"Hermione Granger\"}\n",
    "print(students)"
   ]
  },
  {
   "cell_type": "markdown",
   "metadata": {},
   "source": [
    "### Membership test\n",
    "\n",
    "Use the `in` keyword"
   ]
  },
  {
   "cell_type": "code",
   "execution_count": 22,
   "metadata": {},
   "outputs": [
    {
     "data": {
      "text/plain": [
       "True"
      ]
     },
     "execution_count": 22,
     "metadata": {},
     "output_type": "execute_result"
    }
   ],
   "source": [
    "\"Harry Potter\" in students"
   ]
  },
  {
   "cell_type": "code",
   "execution_count": 23,
   "metadata": {},
   "outputs": [
    {
     "data": {
      "text/plain": [
       "False"
      ]
     },
     "execution_count": 23,
     "metadata": {},
     "output_type": "execute_result"
    }
   ],
   "source": [
    "\"Albus Dumbledore\" in students"
   ]
  },
  {
   "cell_type": "markdown",
   "metadata": {},
   "source": [
    "### Dictionaries"
   ]
  },
  {
   "cell_type": "code",
   "execution_count": 24,
   "metadata": {},
   "outputs": [
    {
     "name": "stdout",
     "output_type": "stream",
     "text": [
      "{'name': 'Draco Malfoy', 'age': 18, 'gender': 'M', 'house': 'Slytherin'}\n",
      "M\n"
     ]
    }
   ],
   "source": [
    "student = {\n",
    "    \"name\": \"Draco Malfoy\",\n",
    "    \"age\": 18,\n",
    "    \"gender\": \"M\",\n",
    "    \"house\": \"Slytherin\",\n",
    "}\n",
    "print(student)\n",
    "print(student[\"gender\"])"
   ]
  },
  {
   "cell_type": "markdown",
   "metadata": {},
   "source": [
    "### Nested Structures\n",
    "Python supports (almost) any arbitrary collection of collections. So you can define list of lists, tuple of lists, tuple of tuples etc. Following is a list of dictionaries."
   ]
  },
  {
   "cell_type": "code",
   "execution_count": 25,
   "metadata": {},
   "outputs": [],
   "source": [
    "students = [\n",
    "    {\n",
    "       \"name\": \"Harry Potter\",\n",
    "        \"age\": 17,\n",
    "        \"gender\": \"M\",\n",
    "        \"house\": \"Gryffindor\", \n",
    "    },\n",
    "    {\n",
    "       \"name\": \"Luna Lovegood\",\n",
    "        \"age\": 16,\n",
    "        \"gender\": \"F\",\n",
    "        \"house\": \"Ravenclaw\", \n",
    "    },\n",
    "    {\n",
    "       \"name\": \"Ron Weasley\",\n",
    "        \"age\": 17,\n",
    "        \"gender\": \"M\",\n",
    "        \"house\": \"Gryffindor\", \n",
    "    },\n",
    "    {\n",
    "       \"name\": \"Ginny Weasley\",\n",
    "        \"age\": 16,\n",
    "        \"gender\": \"F\",\n",
    "        \"house\": \"Gryffindor\", \n",
    "    },\n",
    "    {\n",
    "       \"name\": \"Cedric Diggory\",\n",
    "        \"age\": 18,\n",
    "        \"gender\": \"M\",\n",
    "        \"house\": \"Hufflepuff\", \n",
    "    },\n",
    "    {\n",
    "       \"name\": \"Hermione Granger\",\n",
    "        \"age\": 17,\n",
    "        \"gender\": \"F\",\n",
    "        \"house\": \"Gryffindor\", \n",
    "    },\n",
    "    {\n",
    "       \"name\": \"Draco Malfoy\",\n",
    "        \"age\": 17,\n",
    "        \"gender\": \"M\",\n",
    "        \"house\": \"Slytherin\", \n",
    "    }\n",
    "]"
   ]
  },
  {
   "cell_type": "markdown",
   "metadata": {},
   "source": [
    "## Control Flow"
   ]
  },
  {
   "cell_type": "markdown",
   "metadata": {},
   "source": [
    "### `if`, `elif`, `else`\n",
    "\n",
    "```python\n",
    "if [boolean-statement]:\n",
    "    [body]\n",
    "elif [boolean-statement]:\n",
    "    [body]\n",
    "else:\n",
    "    [body]\n",
    "```"
   ]
  },
  {
   "cell_type": "code",
   "execution_count": 26,
   "metadata": {},
   "outputs": [
    {
     "name": "stdout",
     "output_type": "stream",
     "text": [
      "He is in Slytherin\n"
     ]
    }
   ],
   "source": [
    "if student[\"name\"] == \"Draco Malfoy\":\n",
    "    print(\"He is in Slytherin\")\n",
    "else:\n",
    "    print(\"Some other house\")"
   ]
  },
  {
   "cell_type": "markdown",
   "metadata": {},
   "source": [
    "### `for`\n",
    "\n",
    "```python\n",
    "for [item] in [items]:\n",
    "    [loop-body]\n",
    "```"
   ]
  },
  {
   "cell_type": "code",
   "execution_count": 27,
   "metadata": {},
   "outputs": [
    {
     "name": "stdout",
     "output_type": "stream",
     "text": [
      "Harry Potter\n",
      "Luna Lovegood\n",
      "Ron Weasley\n",
      "Ginny Weasley\n",
      "Cedric Diggory\n",
      "Hermione Granger\n",
      "Draco Malfoy\n"
     ]
    }
   ],
   "source": [
    "for student in students:\n",
    "    print(student[\"name\"])"
   ]
  },
  {
   "cell_type": "markdown",
   "metadata": {},
   "source": [
    "### `break`, `continue`"
   ]
  },
  {
   "cell_type": "code",
   "execution_count": 28,
   "metadata": {},
   "outputs": [
    {
     "name": "stdout",
     "output_type": "stream",
     "text": [
      "Ron Weasley\n"
     ]
    }
   ],
   "source": [
    "for student in students:\n",
    "    if \"Weasley\" in student[\"name\"]:\n",
    "        print(student[\"name\"])\n",
    "        break"
   ]
  },
  {
   "cell_type": "code",
   "execution_count": 29,
   "metadata": {},
   "outputs": [
    {
     "name": "stdout",
     "output_type": "stream",
     "text": [
      "Harry Potter\n",
      "Luna Lovegood\n",
      "Cedric Diggory\n",
      "Hermione Granger\n",
      "Draco Malfoy\n"
     ]
    }
   ],
   "source": [
    "for student in students:\n",
    "    if \"Weasley\" in student[\"name\"]:\n",
    "        continue\n",
    "    print(student[\"name\"])"
   ]
  },
  {
   "cell_type": "markdown",
   "metadata": {},
   "source": [
    "#### `range()`"
   ]
  },
  {
   "cell_type": "code",
   "execution_count": 30,
   "metadata": {},
   "outputs": [
    {
     "name": "stdout",
     "output_type": "stream",
     "text": [
      "0\n",
      "1\n",
      "2\n",
      "3\n",
      "4\n"
     ]
    }
   ],
   "source": [
    "for i in range(5):\n",
    "    print(i)"
   ]
  },
  {
   "cell_type": "markdown",
   "metadata": {},
   "source": [
    "### `while`\n",
    "\n",
    "```python\n",
    "while [boolean-statement]:\n",
    "    [loop-body]\n",
    "```"
   ]
  },
  {
   "cell_type": "code",
   "execution_count": 31,
   "metadata": {},
   "outputs": [
    {
     "name": "stdout",
     "output_type": "stream",
     "text": [
      "0\n",
      "1\n",
      "2\n",
      "3\n",
      "4\n"
     ]
    }
   ],
   "source": [
    "i = 0\n",
    "while i < 5:\n",
    "    print(i)\n",
    "    i += 1"
   ]
  },
  {
   "cell_type": "markdown",
   "metadata": {},
   "source": [
    "## Functions\n",
    "```python\n",
    "def [function-name]([parameters]):\n",
    "    [function-body]\n",
    "    return [value]\n",
    "```"
   ]
  },
  {
   "cell_type": "code",
   "execution_count": 32,
   "metadata": {},
   "outputs": [
    {
     "name": "stdout",
     "output_type": "stream",
     "text": [
      "Malfoy\n"
     ]
    }
   ],
   "source": [
    "def last_name(name):\n",
    "    return name.split(\" \")[-1]\n",
    "print(last_name(\"Draco Malfoy\"))"
   ]
  },
  {
   "cell_type": "markdown",
   "metadata": {},
   "source": [
    "### Default arguments\n"
   ]
  },
  {
   "cell_type": "code",
   "execution_count": 33,
   "metadata": {},
   "outputs": [
    {
     "name": "stdout",
     "output_type": "stream",
     "text": [
      "Malfoy\n",
      "Potter\n"
     ]
    }
   ],
   "source": [
    "def last_name(name=\"Harry Potter\"):\n",
    "    return name.split(\" \")[-1]\n",
    "print(last_name(\"Draco Malfoy\"))\n",
    "print(last_name())"
   ]
  }
 ],
 "metadata": {
  "kernelspec": {
   "display_name": "Python 3",
   "language": "python",
   "name": "python3"
  },
  "language_info": {
   "codemirror_mode": {
    "name": "ipython",
    "version": 3
   },
   "file_extension": ".py",
   "mimetype": "text/x-python",
   "name": "python",
   "nbconvert_exporter": "python",
   "pygments_lexer": "ipython3",
   "version": "3.6.8"
  }
 },
 "nbformat": 4,
 "nbformat_minor": 4
}
